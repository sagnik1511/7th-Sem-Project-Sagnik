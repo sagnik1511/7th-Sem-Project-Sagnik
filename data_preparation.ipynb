{
 "cells": [
  {
   "cell_type": "code",
   "execution_count": 1,
   "metadata": {},
   "outputs": [],
   "source": [
    "from glob import glob"
   ]
  },
  {
   "cell_type": "code",
   "execution_count": 2,
   "metadata": {},
   "outputs": [
    {
     "data": {
      "text/plain": [
       "171374"
      ]
     },
     "execution_count": 2,
     "metadata": {},
     "output_type": "execute_result"
    }
   ],
   "source": [
    "len(glob(\"data/*/*/*.jpg\") + glob(\"data/*/*.jpg\"))"
   ]
  },
  {
   "cell_type": "code",
   "execution_count": 3,
   "metadata": {},
   "outputs": [],
   "source": [
    "paths = glob(\"data/*/*/*.jpg\") + glob(\"data/*/*.jpg\")"
   ]
  },
  {
   "cell_type": "code",
   "execution_count": 4,
   "metadata": {},
   "outputs": [],
   "source": [
    "import random\n",
    "random.shuffle(paths)"
   ]
  },
  {
   "cell_type": "code",
   "execution_count": 5,
   "metadata": {},
   "outputs": [
    {
     "data": {
      "text/plain": [
       "['data\\\\NGS\\\\2001-3000\\\\NGS_02193.jpg',\n",
       " 'data\\\\MMZ\\\\1001-2000\\\\MMZ_01222.jpg',\n",
       " 'data\\\\NGB\\\\6001-7000\\\\NGB_06804.jpg',\n",
       " 'data\\\\ART\\\\1001-2000\\\\ART_01587.jpg',\n",
       " 'data\\\\PMO\\\\6001-7000\\\\PMO_06843.jpg']"
      ]
     },
     "execution_count": 5,
     "metadata": {},
     "output_type": "execute_result"
    }
   ],
   "source": [
    "paths[:5]"
   ]
  },
  {
   "cell_type": "code",
   "execution_count": 6,
   "metadata": {},
   "outputs": [],
   "source": [
    "import pandas as pd"
   ]
  },
  {
   "cell_type": "code",
   "execution_count": 7,
   "metadata": {},
   "outputs": [
    {
     "data": {
      "text/plain": [
       "{0: {'abbreviations': 'ABE', 'class_name': 'Abnormal eosinophil'},\n",
       " 1: {'abbreviations': 'ART', 'class_name': 'Artefact'},\n",
       " 2: {'abbreviations': 'BAS', 'class_name': 'Basophil'},\n",
       " 3: {'abbreviations': 'BLA', 'class_name': 'Blast'},\n",
       " 4: {'abbreviations': 'EBO', 'class_name': 'Erythroblast'},\n",
       " 5: {'abbreviations': 'EOS', 'class_name': 'Eosinophil'},\n",
       " 6: {'abbreviations': 'FGC', 'class_name': 'Faggott cell'},\n",
       " 7: {'abbreviations': 'HAC', 'class_name': 'Hairy cell'},\n",
       " 8: {'abbreviations': 'KSC', 'class_name': 'Smudge cell'},\n",
       " 9: {'abbreviations': 'LYI', 'class_name': 'Immature lymphocyte'},\n",
       " 10: {'abbreviations': 'LYT', 'class_name': 'Lymphocyte'},\n",
       " 11: {'abbreviations': 'MMZ', 'class_name': 'Metamyelocyte'},\n",
       " 12: {'abbreviations': 'MON', 'class_name': 'Monocyte'},\n",
       " 13: {'abbreviations': 'MYB', 'class_name': 'Myelocyte'},\n",
       " 14: {'abbreviations': 'NGB', 'class_name': 'Band neutrophil'},\n",
       " 15: {'abbreviations': 'NGS', 'class_name': 'Segmented neutrophil'},\n",
       " 16: {'abbreviations': 'NIF', 'class_name': 'Not identifiable'},\n",
       " 17: {'abbreviations': 'OTH', 'class_name': 'Other cell'},\n",
       " 18: {'abbreviations': 'PEB', 'class_name': 'Proerythroblast'},\n",
       " 19: {'abbreviations': 'PLM', 'class_name': 'Plasma cell'},\n",
       " 20: {'abbreviations': 'PMO', 'class_name': 'Promyelocyte'}}"
      ]
     },
     "execution_count": 7,
     "metadata": {},
     "output_type": "execute_result"
    }
   ],
   "source": [
    "abbr =  pd.read_csv(\"data/abbreviations.csv\", delimiter=\";\")\n",
    "class_dict = {i : {\"abbreviations\": abbr.iloc[i, 0], \"class_name\": abbr.iloc[i, 1]} for i in range(len(abbr))}\n",
    "class_dict"
   ]
  },
  {
   "cell_type": "code",
   "execution_count": 8,
   "metadata": {},
   "outputs": [
    {
     "data": {
      "text/plain": [
       "{'ABE': {'index': 0, 'class_name': 'Abnormal eosinophil'},\n",
       " 'ART': {'index': 1, 'class_name': 'Artefact'},\n",
       " 'BAS': {'index': 2, 'class_name': 'Basophil'},\n",
       " 'BLA': {'index': 3, 'class_name': 'Blast'},\n",
       " 'EBO': {'index': 4, 'class_name': 'Erythroblast'},\n",
       " 'EOS': {'index': 5, 'class_name': 'Eosinophil'},\n",
       " 'FGC': {'index': 6, 'class_name': 'Faggott cell'},\n",
       " 'HAC': {'index': 7, 'class_name': 'Hairy cell'},\n",
       " 'KSC': {'index': 8, 'class_name': 'Smudge cell'},\n",
       " 'LYI': {'index': 9, 'class_name': 'Immature lymphocyte'},\n",
       " 'LYT': {'index': 10, 'class_name': 'Lymphocyte'},\n",
       " 'MMZ': {'index': 11, 'class_name': 'Metamyelocyte'},\n",
       " 'MON': {'index': 12, 'class_name': 'Monocyte'},\n",
       " 'MYB': {'index': 13, 'class_name': 'Myelocyte'},\n",
       " 'NGB': {'index': 14, 'class_name': 'Band neutrophil'},\n",
       " 'NGS': {'index': 15, 'class_name': 'Segmented neutrophil'},\n",
       " 'NIF': {'index': 16, 'class_name': 'Not identifiable'},\n",
       " 'OTH': {'index': 17, 'class_name': 'Other cell'},\n",
       " 'PEB': {'index': 18, 'class_name': 'Proerythroblast'},\n",
       " 'PLM': {'index': 19, 'class_name': 'Plasma cell'},\n",
       " 'PMO': {'index': 20, 'class_name': 'Promyelocyte'}}"
      ]
     },
     "execution_count": 8,
     "metadata": {},
     "output_type": "execute_result"
    }
   ],
   "source": [
    "rev_class_dict = {v[\"abbreviations\"]: {\"index\": k, \"class_name\": v[\"class_name\"]} for k, v in class_dict.items()}\n",
    "rev_class_dict"
   ]
  },
  {
   "cell_type": "code",
   "execution_count": 9,
   "metadata": {},
   "outputs": [
    {
     "data": {
      "text/html": [
       "<div>\n",
       "<style scoped>\n",
       "    .dataframe tbody tr th:only-of-type {\n",
       "        vertical-align: middle;\n",
       "    }\n",
       "\n",
       "    .dataframe tbody tr th {\n",
       "        vertical-align: top;\n",
       "    }\n",
       "\n",
       "    .dataframe thead th {\n",
       "        text-align: right;\n",
       "    }\n",
       "</style>\n",
       "<table border=\"1\" class=\"dataframe\">\n",
       "  <thead>\n",
       "    <tr style=\"text-align: right;\">\n",
       "      <th></th>\n",
       "      <th>path</th>\n",
       "    </tr>\n",
       "  </thead>\n",
       "  <tbody>\n",
       "    <tr>\n",
       "      <th>0</th>\n",
       "      <td>data\\NGS\\2001-3000\\NGS_02193.jpg</td>\n",
       "    </tr>\n",
       "    <tr>\n",
       "      <th>1</th>\n",
       "      <td>data\\MMZ\\1001-2000\\MMZ_01222.jpg</td>\n",
       "    </tr>\n",
       "    <tr>\n",
       "      <th>2</th>\n",
       "      <td>data\\NGB\\6001-7000\\NGB_06804.jpg</td>\n",
       "    </tr>\n",
       "    <tr>\n",
       "      <th>3</th>\n",
       "      <td>data\\ART\\1001-2000\\ART_01587.jpg</td>\n",
       "    </tr>\n",
       "    <tr>\n",
       "      <th>4</th>\n",
       "      <td>data\\PMO\\6001-7000\\PMO_06843.jpg</td>\n",
       "    </tr>\n",
       "  </tbody>\n",
       "</table>\n",
       "</div>"
      ],
      "text/plain": [
       "                               path\n",
       "0  data\\NGS\\2001-3000\\NGS_02193.jpg\n",
       "1  data\\MMZ\\1001-2000\\MMZ_01222.jpg\n",
       "2  data\\NGB\\6001-7000\\NGB_06804.jpg\n",
       "3  data\\ART\\1001-2000\\ART_01587.jpg\n",
       "4  data\\PMO\\6001-7000\\PMO_06843.jpg"
      ]
     },
     "execution_count": 9,
     "metadata": {},
     "output_type": "execute_result"
    }
   ],
   "source": [
    "meta_df = pd.DataFrame(paths, columns=[\"path\"])\n",
    "meta_df.head()"
   ]
  },
  {
   "cell_type": "code",
   "execution_count": 10,
   "metadata": {},
   "outputs": [
    {
     "data": {
      "text/html": [
       "<div>\n",
       "<style scoped>\n",
       "    .dataframe tbody tr th:only-of-type {\n",
       "        vertical-align: middle;\n",
       "    }\n",
       "\n",
       "    .dataframe tbody tr th {\n",
       "        vertical-align: top;\n",
       "    }\n",
       "\n",
       "    .dataframe thead th {\n",
       "        text-align: right;\n",
       "    }\n",
       "</style>\n",
       "<table border=\"1\" class=\"dataframe\">\n",
       "  <thead>\n",
       "    <tr style=\"text-align: right;\">\n",
       "      <th></th>\n",
       "      <th>path</th>\n",
       "      <th>class_name</th>\n",
       "      <th>label</th>\n",
       "    </tr>\n",
       "  </thead>\n",
       "  <tbody>\n",
       "    <tr>\n",
       "      <th>0</th>\n",
       "      <td>data\\NGS\\2001-3000\\NGS_02193.jpg</td>\n",
       "      <td>Segmented neutrophil</td>\n",
       "      <td>15</td>\n",
       "    </tr>\n",
       "    <tr>\n",
       "      <th>1</th>\n",
       "      <td>data\\MMZ\\1001-2000\\MMZ_01222.jpg</td>\n",
       "      <td>Metamyelocyte</td>\n",
       "      <td>11</td>\n",
       "    </tr>\n",
       "    <tr>\n",
       "      <th>2</th>\n",
       "      <td>data\\NGB\\6001-7000\\NGB_06804.jpg</td>\n",
       "      <td>Band neutrophil</td>\n",
       "      <td>14</td>\n",
       "    </tr>\n",
       "    <tr>\n",
       "      <th>3</th>\n",
       "      <td>data\\ART\\1001-2000\\ART_01587.jpg</td>\n",
       "      <td>Artefact</td>\n",
       "      <td>1</td>\n",
       "    </tr>\n",
       "    <tr>\n",
       "      <th>4</th>\n",
       "      <td>data\\PMO\\6001-7000\\PMO_06843.jpg</td>\n",
       "      <td>Promyelocyte</td>\n",
       "      <td>20</td>\n",
       "    </tr>\n",
       "  </tbody>\n",
       "</table>\n",
       "</div>"
      ],
      "text/plain": [
       "                               path            class_name  label\n",
       "0  data\\NGS\\2001-3000\\NGS_02193.jpg  Segmented neutrophil     15\n",
       "1  data\\MMZ\\1001-2000\\MMZ_01222.jpg         Metamyelocyte     11\n",
       "2  data\\NGB\\6001-7000\\NGB_06804.jpg       Band neutrophil     14\n",
       "3  data\\ART\\1001-2000\\ART_01587.jpg              Artefact      1\n",
       "4  data\\PMO\\6001-7000\\PMO_06843.jpg          Promyelocyte     20"
      ]
     },
     "execution_count": 10,
     "metadata": {},
     "output_type": "execute_result"
    }
   ],
   "source": [
    "meta_df[\"class_name\"] = meta_df[\"path\"].apply(lambda x: rev_class_dict[x.split(\"\\\\\")[1]][\"class_name\"])\n",
    "meta_df[\"label\"] = meta_df[\"path\"].apply(lambda x: rev_class_dict[x.split(\"\\\\\")[1]][\"index\"])\n",
    "meta_df.head()"
   ]
  },
  {
   "cell_type": "code",
   "execution_count": 11,
   "metadata": {},
   "outputs": [
    {
     "data": {
      "text/plain": [
       "array([15, 11, 14,  1, 20, 10,  3, 13, 18,  5, 16, 19,  2,  4, 12,  8,  7,\n",
       "        9, 17,  6,  0], dtype=int64)"
      ]
     },
     "execution_count": 11,
     "metadata": {},
     "output_type": "execute_result"
    }
   ],
   "source": [
    "meta_df.label.unique()"
   ]
  },
  {
   "cell_type": "code",
   "execution_count": 12,
   "metadata": {},
   "outputs": [
    {
     "data": {
      "text/plain": [
       "15    29424\n",
       "4     27395\n",
       "10    26242\n",
       "1     19630\n",
       "20    11994\n",
       "3     11973\n",
       "14     9968\n",
       "19     7629\n",
       "13     6557\n",
       "5      5883\n",
       "12     4040\n",
       "16     3538\n",
       "11     3055\n",
       "18     2740\n",
       "2       441\n",
       "7       409\n",
       "17      294\n",
       "9        65\n",
       "6        47\n",
       "8        42\n",
       "0         8\n",
       "Name: label, dtype: int64"
      ]
     },
     "execution_count": 12,
     "metadata": {},
     "output_type": "execute_result"
    }
   ],
   "source": [
    "meta_df.label.value_counts()"
   ]
  },
  {
   "cell_type": "code",
   "execution_count": 14,
   "metadata": {},
   "outputs": [],
   "source": [
    "from sklearn.model_selection import train_test_split"
   ]
  },
  {
   "cell_type": "code",
   "execution_count": 15,
   "metadata": {},
   "outputs": [],
   "source": [
    "\n",
    "train_df, test_df = train_test_split(meta_df, test_size = 0.3, stratify=meta_df[\"label\"].tolist())"
   ]
  },
  {
   "cell_type": "code",
   "execution_count": 16,
   "metadata": {},
   "outputs": [
    {
     "data": {
      "text/plain": [
       "((119961, 3), (51413, 3))"
      ]
     },
     "execution_count": 16,
     "metadata": {},
     "output_type": "execute_result"
    }
   ],
   "source": [
    "train_df.shape, test_df.shape"
   ]
  },
  {
   "cell_type": "code",
   "execution_count": 17,
   "metadata": {},
   "outputs": [
    {
     "data": {
      "text/plain": [
       "((34446, 3), (16967, 3))"
      ]
     },
     "execution_count": 17,
     "metadata": {},
     "output_type": "execute_result"
    }
   ],
   "source": [
    "test_df, val_df = train_test_split(test_df, test_size=0.33, stratify=test_df[\"label\"].tolist())\n",
    "test_df.shape, val_df.shape"
   ]
  },
  {
   "cell_type": "code",
   "execution_count": 18,
   "metadata": {},
   "outputs": [],
   "source": [
    "train_df.to_csv(\"data/train.csv\", index=False)\n",
    "val_df.to_csv(\"data/val.csv\", index=False)\n",
    "test_df.to_csv(\"data/test.csv\", index=False)"
   ]
  }
 ],
 "metadata": {
  "kernelspec": {
   "display_name": "Python 3",
   "language": "python",
   "name": "python3"
  },
  "language_info": {
   "codemirror_mode": {
    "name": "ipython",
    "version": 3
   },
   "file_extension": ".py",
   "mimetype": "text/x-python",
   "name": "python",
   "nbconvert_exporter": "python",
   "pygments_lexer": "ipython3",
   "version": "3.9.16"
  },
  "orig_nbformat": 4,
  "vscode": {
   "interpreter": {
    "hash": "212a5a6f66f63bf41c0b7177ca785a3218d2cefdcfea3cc7f3408c78a8f86411"
   }
  }
 },
 "nbformat": 4,
 "nbformat_minor": 2
}
